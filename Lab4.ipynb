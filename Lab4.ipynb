{
 "cells": [
  {
   "cell_type": "code",
   "execution_count": null,
   "metadata": {},
   "outputs": [],
   "source": [
    "import csv \n",
    "import numpy as np\n",
    "import time\n",
    "\n",
    "file = open(\"test.csv\", \"w\", newline=None)\n",
    "\n",
    "file_writer = csv.writer(file)\n",
    "\n",
    "file_writer.writerow([\"Time\", \"Data\"])\n",
    "\n",
    "for i in range(10):\n",
    "    entry = np.random.random()\n",
    "    now = time.time()\n",
    "    file_writer.writerow([now, entry])\n",
    "\n",
    "file.close()\n",
    "\n"
   ]
  }
 ],
 "metadata": {
  "language_info": {
   "name": "python"
  }
 },
 "nbformat": 4,
 "nbformat_minor": 2
}
